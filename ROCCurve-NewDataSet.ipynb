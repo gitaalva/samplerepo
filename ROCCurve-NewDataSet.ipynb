{
 "cells": [
  {
   "cell_type": "code",
   "execution_count": 1,
   "metadata": {
    "collapsed": false
   },
   "outputs": [
    {
     "data": {
      "image/png": "[encoded data removed]",
      "text/plain": [
       "<matplotlib.figure.Figure at 0x1041f5750>"
      ]
     },
     "metadata": {},
     "output_type": "display_data"
    }
   ],
   "source": [
    "import matplotlib\n",
    "\n",
    "matplotlib.use('TkAgg')\n",
    "%matplotlib inline\n",
    "import matplotlib.pyplot as plt\n",
    "\n",
    "plt.plot([1, 2, 3], [0, 3, 7])\n",
    "plt.show()"
   ]
  },
  {
   "cell_type": "code",
   "execution_count": 2,
   "metadata": {
    "collapsed": true
   },
   "outputs": [],
   "source": [
    "import pandas as pd\n",
    "import csv\n",
    "import numpy as np\n",
    "from math import sqrt\n",
    "from sklearn.feature_extraction.text import CountVectorizer\n",
    "countVector = CountVectorizer(min_df=1)\n",
    "import re"
   ]
  },
  {
   "cell_type": "code",
   "execution_count": 3,
   "metadata": {
    "collapsed": false
   },
   "outputs": [
    {
     "name": "stdout",
     "output_type": "stream",
     "text": [
      "9467\n",
      "1952\n",
      "1553\n",
      "1676\n",
      "11419\n",
      "11419\n",
      "13095\n",
      "['', 'TimeStamp', 'interocularDistance', 'glasses', 'pitch', 'yaw', 'roll', 'joy', 'fear', 'disgust', 'sadness', 'anger', 'surprise', 'contempt', 'valence', 'engagement', 'smile', 'innerBrowRaise', 'browRaise', 'browFurrow', 'noseWrinkle', 'upperLipRaise', 'lipCornerDepressor', 'chinRaise', 'lipPucker', 'lipPress', 'lipSuck', 'mouthOpen', 'smirk', 'eyeClosure', 'attention', 'eyeWiden', 'cheekRaise', 'lidTighten', 'dimpler', 'lipStretch', 'jawDrop', 'relaxed', 'smiley', 'laughing', 'kissing', 'disappointed', 'rage', 'smirk.1', 'wink', 'stuckOutTongueWinkingEye', 'stuckOutTongue', 'flushed', 'scream', 'FRUSTRATED', 'TIRED', 'ENGAGED', 'CLASS']\n"
     ]
    }
   ],
   "source": [
    "# Gautam's video input\n",
    "with open('./data/RAW_abhyudaya/final_gb1.csv') as f:\n",
    "    reader = csv.reader(f)\n",
    "    affectivavideooutput = list(reader)\n",
    "\n",
    "with open('./data/RAW_abhyudaya/final_gb4.csv') as f:\n",
    "    reader = csv.reader(f)\n",
    "    affectivavideooutput2 = list(reader)\n",
    "    \n",
    "with open('./data/RAW_abhyudaya/final_gb6.csv') as f:\n",
    "    reader = csv.reader(f)\n",
    "    affectivavideooutput3 = list(reader)\n",
    "    \n",
    "with open('./data/RAW_abhyudaya/final_gb7.csv') as f:\n",
    "    reader = csv.reader(f)\n",
    "    affectivavideooutput4 = list(reader)\n",
    "\n",
    "affectivavideooutput2.pop(0)\n",
    "affectivavideooutput3.pop(0)\n",
    "affectivavideooutput4.pop(0)\n",
    "\n",
    "print len(affectivavideooutput)\n",
    "print len(affectivavideooutput2)\n",
    "print len(affectivavideooutput3)\n",
    "print len(affectivavideooutput4)\n",
    "\n",
    "affectivavideooutput.extend(affectivavideooutput2)\n",
    "print len(affectivavideooutput)\n",
    "#affectivavideooutput.extend(affectivavideooutput3)\n",
    "print len(affectivavideooutput)\n",
    "affectivavideooutput.extend(affectivavideooutput4)\n",
    "\n",
    "print len(affectivavideooutput)\n",
    "print affectivavideooutput[0]\n"
   ]
  },
  {
   "cell_type": "code",
   "execution_count": 4,
   "metadata": {
    "collapsed": false
   },
   "outputs": [
    {
     "name": "stdout",
     "output_type": "stream",
     "text": [
      "1553\n"
     ]
    }
   ],
   "source": [
    "print len(affectivavideooutput3)"
   ]
  },
  {
   "cell_type": "code",
   "execution_count": 5,
   "metadata": {
    "collapsed": false
   },
   "outputs": [
    {
     "name": "stdout",
     "output_type": "stream",
     "text": [
      "13094\n"
     ]
    }
   ],
   "source": [
    "affectivavideooutput.pop(0)\n",
    "affectivadataframe = pd.DataFrame(affectivavideooutput, \n",
    "                                columns = ['', 'TimeStamp', 'interocularDistance', 'glasses', 'pitch', 'yaw', 'roll', 'joy', \n",
    "                                           'fear', 'disgust', 'sadness', 'anger', 'surprise', 'contempt', 'valence', \n",
    "                                           'engagement', 'smile', 'innerBrowRaise', 'browRaise', 'browFurrow', 'noseWrinkle', \n",
    "                                           'upperLipRaise', 'lipCornerDepressor', 'chinRaise', 'lipPucker', 'lipPress', \n",
    "                                           'lipSuck', 'mouthOpen', 'smirk', 'eyeClosure', 'attention', 'eyeWiden',\n",
    "                                           'cheekRaise', 'lidTighten', 'dimpler', 'lipStretch', 'jawDrop', 'relaxed',\n",
    "                                           'smiley', 'laughing', 'kissing', 'disappointed', 'rage', 'smirk.1', 'wink', \n",
    "                                           'stuckOutTongueWinkingEye', 'stuckOutTongue', 'flushed',\n",
    "                                           'scream', 'frustrated', 'tired', 'engaged', 'class'])\n",
    "affectivadataframe[0:10]\n",
    "#drop the columns that are outright irrelevant for data analysis\n",
    "affectivadataframe = affectivadataframe.drop(['','TimeStamp'],axis=1)\n",
    "#affectivadataframe[-10:]\n",
    "print len(affectivadataframe)"
   ]
  },
  {
   "cell_type": "code",
   "execution_count": 6,
   "metadata": {
    "collapsed": false
   },
   "outputs": [],
   "source": [
    "import statsmodels.api as sm\n",
    "X= affectivadataframe[['smile','innerBrowRaise','browRaise', 'browFurrow', 'noseWrinkle', 'upperLipRaise', \n",
    "                        'lipCornerDepressor', 'chinRaise', 'lipPucker', 'lipPress', 'lipSuck', \n",
    "                        'mouthOpen', 'smirk', 'eyeClosure', 'attention', 'eyeWiden', 'cheekRaise',\n",
    "                        'lidTighten', 'dimpler', 'lipStretch', 'jawDrop','engaged','frustrated','tired']].copy()\n",
    "\n",
    "for column in X.columns:\n",
    "     X[column]=X[column].apply(lambda x:float(x.replace('\"','').replace(\"\\n\",'').replace('nan','')))\n",
    "\n",
    "X['engaged'] = X['engaged'].apply(lambda x:int(x))\n",
    "X['frustrated'] = X['frustrated'].apply(lambda x:int(x))\n",
    "X['tired'] = X['tired'].apply(lambda x:int(x))\n"
   ]
  },
  {
   "cell_type": "code",
   "execution_count": 7,
   "metadata": {
    "collapsed": false
   },
   "outputs": [
    {
     "data": {
      "text/html": [
       "<div>\n",
       "<table border=\"1\" class=\"dataframe\">\n",
       "  <thead>\n",
       "    <tr style=\"text-align: right;\">\n",
       "      <th></th>\n",
       "      <th>smile</th>\n",
       "      <th>innerBrowRaise</th>\n",
       "      <th>browRaise</th>\n",
       "      <th>browFurrow</th>\n",
       "      <th>noseWrinkle</th>\n",
       "      <th>upperLipRaise</th>\n",
       "      <th>lipCornerDepressor</th>\n",
       "      <th>chinRaise</th>\n",
       "      <th>lipPucker</th>\n",
       "      <th>lipPress</th>\n",
       "      <th>...</th>\n",
       "      <th>attention</th>\n",
       "      <th>eyeWiden</th>\n",
       "      <th>cheekRaise</th>\n",
       "      <th>lidTighten</th>\n",
       "      <th>dimpler</th>\n",
       "      <th>lipStretch</th>\n",
       "      <th>jawDrop</th>\n",
       "      <th>engaged</th>\n",
       "      <th>frustrated</th>\n",
       "      <th>tired</th>\n",
       "    </tr>\n",
       "  </thead>\n",
       "  <tbody>\n",
       "    <tr>\n",
       "      <th>0</th>\n",
       "      <td>0.0008</td>\n",
       "      <td>0.2388</td>\n",
       "      <td>0.0057</td>\n",
       "      <td>0.2553</td>\n",
       "      <td>0.1219</td>\n",
       "      <td>0.0034</td>\n",
       "      <td>0.0001</td>\n",
       "      <td>0.0067</td>\n",
       "      <td>0.0380</td>\n",
       "      <td>0.0946</td>\n",
       "      <td>...</td>\n",
       "      <td>83.0258</td>\n",
       "      <td>0.0026</td>\n",
       "      <td>0.0020</td>\n",
       "      <td>0.0209</td>\n",
       "      <td>0.0112</td>\n",
       "      <td>0.0098</td>\n",
       "      <td>6.4668</td>\n",
       "      <td>1</td>\n",
       "      <td>0</td>\n",
       "      <td>0</td>\n",
       "    </tr>\n",
       "    <tr>\n",
       "      <th>1</th>\n",
       "      <td>0.0000</td>\n",
       "      <td>0.0001</td>\n",
       "      <td>0.0005</td>\n",
       "      <td>0.0022</td>\n",
       "      <td>0.0000</td>\n",
       "      <td>0.0000</td>\n",
       "      <td>0.0109</td>\n",
       "      <td>0.0749</td>\n",
       "      <td>0.0017</td>\n",
       "      <td>0.0016</td>\n",
       "      <td>...</td>\n",
       "      <td>89.0099</td>\n",
       "      <td>0.0118</td>\n",
       "      <td>0.4017</td>\n",
       "      <td>0.0544</td>\n",
       "      <td>0.0006</td>\n",
       "      <td>0.0022</td>\n",
       "      <td>0.3176</td>\n",
       "      <td>1</td>\n",
       "      <td>1</td>\n",
       "      <td>1</td>\n",
       "    </tr>\n",
       "    <tr>\n",
       "      <th>2</th>\n",
       "      <td>0.0000</td>\n",
       "      <td>0.0004</td>\n",
       "      <td>0.0575</td>\n",
       "      <td>0.0007</td>\n",
       "      <td>0.0000</td>\n",
       "      <td>0.0021</td>\n",
       "      <td>0.0000</td>\n",
       "      <td>0.0000</td>\n",
       "      <td>0.5980</td>\n",
       "      <td>0.0002</td>\n",
       "      <td>...</td>\n",
       "      <td>63.9603</td>\n",
       "      <td>0.0156</td>\n",
       "      <td>0.0108</td>\n",
       "      <td>0.0110</td>\n",
       "      <td>0.0001</td>\n",
       "      <td>0.0001</td>\n",
       "      <td>79.5952</td>\n",
       "      <td>1</td>\n",
       "      <td>0</td>\n",
       "      <td>1</td>\n",
       "    </tr>\n",
       "    <tr>\n",
       "      <th>3</th>\n",
       "      <td>0.0003</td>\n",
       "      <td>1.2592</td>\n",
       "      <td>0.0050</td>\n",
       "      <td>0.1682</td>\n",
       "      <td>0.0743</td>\n",
       "      <td>2.2715</td>\n",
       "      <td>4.5193</td>\n",
       "      <td>0.0445</td>\n",
       "      <td>0.0531</td>\n",
       "      <td>3.1848</td>\n",
       "      <td>...</td>\n",
       "      <td>96.6968</td>\n",
       "      <td>0.0034</td>\n",
       "      <td>0.0370</td>\n",
       "      <td>0.0103</td>\n",
       "      <td>89.4438</td>\n",
       "      <td>0.1338</td>\n",
       "      <td>0.0243</td>\n",
       "      <td>1</td>\n",
       "      <td>0</td>\n",
       "      <td>0</td>\n",
       "    </tr>\n",
       "    <tr>\n",
       "      <th>4</th>\n",
       "      <td>0.0000</td>\n",
       "      <td>0.7415</td>\n",
       "      <td>0.0310</td>\n",
       "      <td>0.0092</td>\n",
       "      <td>0.0246</td>\n",
       "      <td>0.0473</td>\n",
       "      <td>0.0031</td>\n",
       "      <td>0.0220</td>\n",
       "      <td>0.0129</td>\n",
       "      <td>0.0048</td>\n",
       "      <td>...</td>\n",
       "      <td>94.8980</td>\n",
       "      <td>0.0354</td>\n",
       "      <td>0.0000</td>\n",
       "      <td>0.0057</td>\n",
       "      <td>0.0216</td>\n",
       "      <td>0.0051</td>\n",
       "      <td>0.3838</td>\n",
       "      <td>1</td>\n",
       "      <td>0</td>\n",
       "      <td>0</td>\n",
       "    </tr>\n",
       "    <tr>\n",
       "      <th>5</th>\n",
       "      <td>0.0016</td>\n",
       "      <td>2.0825</td>\n",
       "      <td>1.3171</td>\n",
       "      <td>0.0081</td>\n",
       "      <td>0.3119</td>\n",
       "      <td>0.0001</td>\n",
       "      <td>0.0012</td>\n",
       "      <td>99.7759</td>\n",
       "      <td>0.4525</td>\n",
       "      <td>7.3817</td>\n",
       "      <td>...</td>\n",
       "      <td>96.9536</td>\n",
       "      <td>0.0012</td>\n",
       "      <td>70.5788</td>\n",
       "      <td>0.1526</td>\n",
       "      <td>73.1294</td>\n",
       "      <td>0.5042</td>\n",
       "      <td>61.3236</td>\n",
       "      <td>1</td>\n",
       "      <td>0</td>\n",
       "      <td>0</td>\n",
       "    </tr>\n",
       "    <tr>\n",
       "      <th>6</th>\n",
       "      <td>0.0000</td>\n",
       "      <td>0.0002</td>\n",
       "      <td>0.0249</td>\n",
       "      <td>0.0174</td>\n",
       "      <td>0.0018</td>\n",
       "      <td>2.4737</td>\n",
       "      <td>0.0791</td>\n",
       "      <td>0.0008</td>\n",
       "      <td>0.1355</td>\n",
       "      <td>0.0091</td>\n",
       "      <td>...</td>\n",
       "      <td>51.7223</td>\n",
       "      <td>3.8399</td>\n",
       "      <td>0.0016</td>\n",
       "      <td>0.0184</td>\n",
       "      <td>0.0081</td>\n",
       "      <td>0.0002</td>\n",
       "      <td>4.2949</td>\n",
       "      <td>1</td>\n",
       "      <td>0</td>\n",
       "      <td>0</td>\n",
       "    </tr>\n",
       "    <tr>\n",
       "      <th>7</th>\n",
       "      <td>0.0060</td>\n",
       "      <td>0.0681</td>\n",
       "      <td>0.0143</td>\n",
       "      <td>0.0009</td>\n",
       "      <td>0.0810</td>\n",
       "      <td>30.4586</td>\n",
       "      <td>0.0012</td>\n",
       "      <td>0.0004</td>\n",
       "      <td>5.5293</td>\n",
       "      <td>0.2761</td>\n",
       "      <td>...</td>\n",
       "      <td>98.5840</td>\n",
       "      <td>0.0174</td>\n",
       "      <td>0.0008</td>\n",
       "      <td>0.0074</td>\n",
       "      <td>0.0190</td>\n",
       "      <td>0.1081</td>\n",
       "      <td>94.5897</td>\n",
       "      <td>1</td>\n",
       "      <td>0</td>\n",
       "      <td>0</td>\n",
       "    </tr>\n",
       "    <tr>\n",
       "      <th>8</th>\n",
       "      <td>0.0000</td>\n",
       "      <td>0.0000</td>\n",
       "      <td>98.1941</td>\n",
       "      <td>0.0000</td>\n",
       "      <td>0.0000</td>\n",
       "      <td>0.0000</td>\n",
       "      <td>0.0001</td>\n",
       "      <td>0.0411</td>\n",
       "      <td>0.0246</td>\n",
       "      <td>0.0001</td>\n",
       "      <td>...</td>\n",
       "      <td>82.3883</td>\n",
       "      <td>0.0298</td>\n",
       "      <td>0.0002</td>\n",
       "      <td>0.0000</td>\n",
       "      <td>0.0000</td>\n",
       "      <td>0.0001</td>\n",
       "      <td>1.6839</td>\n",
       "      <td>1</td>\n",
       "      <td>0</td>\n",
       "      <td>0</td>\n",
       "    </tr>\n",
       "    <tr>\n",
       "      <th>9</th>\n",
       "      <td>0.0000</td>\n",
       "      <td>0.0072</td>\n",
       "      <td>0.8344</td>\n",
       "      <td>0.0266</td>\n",
       "      <td>0.0014</td>\n",
       "      <td>0.0007</td>\n",
       "      <td>2.5742</td>\n",
       "      <td>0.0154</td>\n",
       "      <td>1.3654</td>\n",
       "      <td>0.1056</td>\n",
       "      <td>...</td>\n",
       "      <td>48.9700</td>\n",
       "      <td>1.8493</td>\n",
       "      <td>0.0028</td>\n",
       "      <td>0.0398</td>\n",
       "      <td>0.1563</td>\n",
       "      <td>0.0011</td>\n",
       "      <td>1.1260</td>\n",
       "      <td>1</td>\n",
       "      <td>0</td>\n",
       "      <td>0</td>\n",
       "    </tr>\n",
       "  </tbody>\n",
       "</table>\n",
       "<p>10 rows × 24 columns</p>\n",
       "</div>"
      ],
      "text/plain": [
       "    smile  innerBrowRaise  browRaise  browFurrow  noseWrinkle  upperLipRaise  \\\n",
       "0  0.0008          0.2388     0.0057      0.2553       0.1219         0.0034   \n",
       "1  0.0000          0.0001     0.0005      0.0022       0.0000         0.0000   \n",
       "2  0.0000          0.0004     0.0575      0.0007       0.0000         0.0021   \n",
       "3  0.0003          1.2592     0.0050      0.1682       0.0743         2.2715   \n",
       "4  0.0000          0.7415     0.0310      0.0092       0.0246         0.0473   \n",
       "5  0.0016          2.0825     1.3171      0.0081       0.3119         0.0001   \n",
       "6  0.0000          0.0002     0.0249      0.0174       0.0018         2.4737   \n",
       "7  0.0060          0.0681     0.0143      0.0009       0.0810        30.4586   \n",
       "8  0.0000          0.0000    98.1941      0.0000       0.0000         0.0000   \n",
       "9  0.0000          0.0072     0.8344      0.0266       0.0014         0.0007   \n",
       "\n",
       "   lipCornerDepressor  chinRaise  lipPucker  lipPress  ...    attention  \\\n",
       "0              0.0001     0.0067     0.0380    0.0946  ...      83.0258   \n",
       "1              0.0109     0.0749     0.0017    0.0016  ...      89.0099   \n",
       "2              0.0000     0.0000     0.5980    0.0002  ...      63.9603   \n",
       "3              4.5193     0.0445     0.0531    3.1848  ...      96.6968   \n",
       "4              0.0031     0.0220     0.0129    0.0048  ...      94.8980   \n",
       "5              0.0012    99.7759     0.4525    7.3817  ...      96.9536   \n",
       "6              0.0791     0.0008     0.1355    0.0091  ...      51.7223   \n",
       "7              0.0012     0.0004     5.5293    0.2761  ...      98.5840   \n",
       "8              0.0001     0.0411     0.0246    0.0001  ...      82.3883   \n",
       "9              2.5742     0.0154     1.3654    0.1056  ...      48.9700   \n",
       "\n",
       "   eyeWiden  cheekRaise  lidTighten  dimpler  lipStretch  jawDrop  engaged  \\\n",
       "0    0.0026      0.0020      0.0209   0.0112      0.0098   6.4668        1   \n",
       "1    0.0118      0.4017      0.0544   0.0006      0.0022   0.3176        1   \n",
       "2    0.0156      0.0108      0.0110   0.0001      0.0001  79.5952        1   \n",
       "3    0.0034      0.0370      0.0103  89.4438      0.1338   0.0243        1   \n",
       "4    0.0354      0.0000      0.0057   0.0216      0.0051   0.3838        1   \n",
       "5    0.0012     70.5788      0.1526  73.1294      0.5042  61.3236        1   \n",
       "6    3.8399      0.0016      0.0184   0.0081      0.0002   4.2949        1   \n",
       "7    0.0174      0.0008      0.0074   0.0190      0.1081  94.5897        1   \n",
       "8    0.0298      0.0002      0.0000   0.0000      0.0001   1.6839        1   \n",
       "9    1.8493      0.0028      0.0398   0.1563      0.0011   1.1260        1   \n",
       "\n",
       "   frustrated  tired  \n",
       "0           0      0  \n",
       "1           1      1  \n",
       "2           0      1  \n",
       "3           0      0  \n",
       "4           0      0  \n",
       "5           0      0  \n",
       "6           0      0  \n",
       "7           0      0  \n",
       "8           0      0  \n",
       "9           0      0  \n",
       "\n",
       "[10 rows x 24 columns]"
      ]
     },
     "execution_count": 7,
     "metadata": {},
     "output_type": "execute_result"
    }
   ],
   "source": [
    "import sklearn.utils\n",
    "df = sklearn.utils.shuffle(X)\n",
    "df = df.reset_index(drop=True)\n",
    "df[0:10]\n"
   ]
  },
  {
   "cell_type": "code",
   "execution_count": 12,
   "metadata": {
    "collapsed": false
   },
   "outputs": [
    {
     "name": "stdout",
     "output_type": "stream",
     "text": [
      "1553\n"
     ]
    }
   ],
   "source": [
    "dftestVideo = pd.DataFrame(affectivavideooutput3, \n",
    "                                columns = ['', 'TimeStamp', 'interocularDistance', 'glasses', 'pitch', 'yaw', 'roll', 'joy', \n",
    "                                           'fear', 'disgust', 'sadness', 'anger', 'surprise', 'contempt', 'valence', \n",
    "                                           'engagement', 'smile', 'innerBrowRaise', 'browRaise', 'browFurrow', 'noseWrinkle', \n",
    "                                           'upperLipRaise', 'lipCornerDepressor', 'chinRaise', 'lipPucker', 'lipPress', \n",
    "                                           'lipSuck', 'mouthOpen', 'smirk', 'eyeClosure', 'attention', 'eyeWiden',\n",
    "                                           'cheekRaise', 'lidTighten', 'dimpler', 'lipStretch', 'jawDrop', 'relaxed',\n",
    "                                           'smiley', 'laughing', 'kissing', 'disappointed', 'rage', 'smirk.1', 'wink', \n",
    "                                           'stuckOutTongueWinkingEye', 'stuckOutTongue', 'flushed',\n",
    "                                           'scream', 'frustrated', 'tired', 'engaged', 'class'])\n",
    "affectivadataframe[0:10]\n",
    "#drop the columns that are outright irrelevant for data analysis\n",
    "dftestVideo = dftestVideo.drop(['','TimeStamp'],axis=1)\n",
    "#affectivadataframe[-10:]\n",
    "print len(dftestVideo)\n",
    "for column in dftestVideo.columns:\n",
    "     dftestVideo[column]=dftestVideo[column].apply(lambda x:float(x.replace('\"','').replace(\"\\n\",'').replace('nan','')))\n",
    "\n",
    "dftestVideo['engaged'] = dftestVideo['engaged'].apply(lambda x:int(x))\n",
    "dftestVideo['frustrated'] = dftestVideo['frustrated'].apply(lambda x:int(x))\n",
    "dftestVideo['tired'] = dftestVideo['tired'].apply(lambda x:int(x))"
   ]
  },
  {
   "cell_type": "code",
   "execution_count": 9,
   "metadata": {
    "collapsed": false
   },
   "outputs": [
    {
     "name": "stdout",
     "output_type": "stream",
     "text": [
      "13094\n"
     ]
    }
   ],
   "source": [
    "import statsmodels.api as sm\n",
    "X= affectivadataframe[['smile','innerBrowRaise','browRaise', 'browFurrow', 'noseWrinkle', 'upperLipRaise', \n",
    "                        'lipCornerDepressor', 'chinRaise', 'lipPucker', 'lipPress', 'lipSuck', \n",
    "                        'mouthOpen', 'smirk', 'eyeClosure', 'attention', 'eyeWiden', 'cheekRaise',\n",
    "                        'lidTighten', 'dimpler', 'lipStretch', 'jawDrop','engaged','frustrated','tired']].copy()\n",
    "\n",
    "for column in X.columns:\n",
    "     X[column]=X[column].apply(lambda x:float(x.replace('\"','').replace(\"\\n\",'').replace('nan','')))\n",
    "\n",
    "X['engaged'] = X['engaged'].apply(lambda x:int(x))\n",
    "X['frustrated'] = X['frustrated'].apply(lambda x:int(x))\n",
    "X['tired'] = X['tired'].apply(lambda x:int(x))\n",
    "dftrain = X\n",
    "print len(dftrain)"
   ]
  },
  {
   "cell_type": "code",
   "execution_count": 10,
   "metadata": {
    "collapsed": false
   },
   "outputs": [
    {
     "name": "stdout",
     "output_type": "stream",
     "text": [
      "Optimization terminated successfully.\n",
      "         Current function value: 0.371130\n",
      "         Iterations 13\n",
      "                           Logit Regression Results                           \n",
      "==============================================================================\n",
      "Dep. Variable:             frustrated   No. Observations:                13094\n",
      "Model:                          Logit   Df Residuals:                    13074\n",
      "Method:                           MLE   Df Model:                           19\n",
      "Date:                Thu, 08 Dec 2016   Pseudo R-squ.:                -0.06581\n",
      "Time:                        08:59:02   Log-Likelihood:                -4859.6\n",
      "converged:                       True   LL-Null:                       -4559.5\n",
      "                                        LLR p-value:                     1.000\n",
      "======================================================================================\n",
      "                         coef    std err          z      P>|z|      [95.0% Conf. Int.]\n",
      "--------------------------------------------------------------------------------------\n",
      "smile                 -0.9840      0.441     -2.233      0.026        -1.848    -0.120\n",
      "innerBrowRaise        -0.1664      0.019     -8.605      0.000        -0.204    -0.129\n",
      "browRaise             -0.0143      0.004     -3.961      0.000        -0.021    -0.007\n",
      "browFurrow            -0.0331      0.007     -4.736      0.000        -0.047    -0.019\n",
      "noseWrinkle           -0.0441      0.011     -3.906      0.000        -0.066    -0.022\n",
      "upperLipRaise         -2.0208      0.144    -14.044      0.000        -2.303    -1.739\n",
      "lipCornerDepressor    -0.0627      0.005    -11.889      0.000        -0.073    -0.052\n",
      "chinRaise             -0.0066      0.003     -2.224      0.026        -0.012    -0.001\n",
      "lipPucker             -0.0286      0.005     -6.249      0.000        -0.038    -0.020\n",
      "lipPress               0.0049      0.002      2.315      0.021         0.001     0.009\n",
      "lipSuck                0.0417      0.003     14.747      0.000         0.036     0.047\n",
      "mouthOpen             -0.0229      0.004     -5.824      0.000        -0.031    -0.015\n",
      "smirk                 -0.0002      0.001     -0.149      0.882        -0.002     0.002\n",
      "eyeClosure             0.0011      0.002      0.672      0.502        -0.002     0.004\n",
      "eyeWiden              -0.0493      0.010     -5.058      0.000        -0.068    -0.030\n",
      "cheekRaise             0.0109      0.003      4.120      0.000         0.006     0.016\n",
      "lidTighten             0.4283      0.070      6.155      0.000         0.292     0.565\n",
      "dimpler               -0.0128      0.002     -6.429      0.000        -0.017    -0.009\n",
      "lipStretch             0.0087      0.005      1.850      0.064        -0.001     0.018\n",
      "jawDrop               -0.1493      0.008    -19.271      0.000        -0.164    -0.134\n",
      "======================================================================================\n"
     ]
    }
   ],
   "source": [
    "from sklearn.preprocessing import StandardScaler\n",
    "explanatoryStd = X[['smile','innerBrowRaise', 'browRaise', 'browFurrow', 'noseWrinkle', 'upperLipRaise', \n",
    "                        'lipCornerDepressor', 'chinRaise', 'lipPucker', 'lipPress', 'lipSuck', \n",
    "                        'mouthOpen', 'smirk', 'eyeClosure', 'eyeWiden', 'cheekRaise',\n",
    "                        'lidTighten', 'dimpler', 'lipStretch', 'jawDrop']].copy() \n",
    "X_std = X\n",
    "#X_std = StandardScaler().fit_transform(explanatoryStd)\n",
    "backtodf = pd.DataFrame(X_std, index=explanatoryStd.index, columns=explanatoryStd.columns)\n",
    "Dependent = X['frustrated']\n",
    "logit = sm.Logit(Dependent,backtodf)\n",
    "result = logit.fit()\n",
    "print(result.summary())"
   ]
  },
  {
   "cell_type": "code",
   "execution_count": 14,
   "metadata": {
    "collapsed": false
   },
   "outputs": [
    {
     "data": {
      "image/png": "[encoded data removed]",
      "text/plain": [
       "<matplotlib.figure.Figure at 0x103be9710>"
      ]
     },
     "metadata": {},
     "output_type": "display_data"
    },
    {
     "data": {
      "text/plain": [
       "<ggplot: (297658193)>"
      ]
     },
     "execution_count": 14,
     "metadata": {},
     "output_type": "execute_result"
    }
   ],
   "source": [
    "\n",
    "from sklearn import metrics\n",
    "from math import sqrt \n",
    "from ggplot import *\n",
    "count1 = 0\n",
    "count0 = 0\n",
    "count = 0\n",
    "sum1 = 0.0\n",
    "\n",
    "per = result.predict(dftestVideo[['smile','innerBrowRaise', 'browRaise', 'browFurrow', 'noseWrinkle', 'upperLipRaise', \n",
    "                        'lipCornerDepressor', 'chinRaise', 'lipPucker', 'lipPress', 'lipSuck', \n",
    "                        'mouthOpen', 'smirk', 'eyeClosure', 'eyeWiden', 'cheekRaise',\n",
    "                        'lidTighten', 'dimpler', 'lipStretch', 'jawDrop']] )\n",
    "\n",
    "fpr, tpr, pr = metrics.roc_curve(dftestVideo['frustrated'], per)\n",
    "df = pd.DataFrame(dict(fpr=fpr, tpr=tpr))\n",
    "ggplot(df, aes(x='fpr', y='tpr')) +\\\n",
    "    geom_line() +\\\n",
    "    geom_abline(linetype='dashed')"
   ]
  },
  {
   "cell_type": "code",
   "execution_count": 15,
   "metadata": {
    "collapsed": false
   },
   "outputs": [
    {
     "data": {
      "text/plain": [
       "<matplotlib.legend.Legend at 0x11b17e1d0>"
      ]
     },
     "execution_count": 15,
     "metadata": {},
     "output_type": "execute_result"
    },
    {
     "data": {
      "image/png": "[encoded data removed]",
      "text/plain": [
       "<matplotlib.figure.Figure at 0x116974310>"
      ]
     },
     "metadata": {},
     "output_type": "display_data"
    }
   ],
   "source": [
    "from numpy import *\n",
    "import math\n",
    "import matplotlib.pyplot as plt\n",
    "#print 1-fpr\n",
    "plt.plot(pr,1-fpr,'r',label= 'specificity')\n",
    "plt.plot(pr,tpr,'b',label= 'sensivity')\n",
    "plt.legend()"
   ]
  },
  {
   "cell_type": "code",
   "execution_count": 16,
   "metadata": {
    "collapsed": false
   },
   "outputs": [
    {
     "name": "stdout",
     "output_type": "stream",
     "text": [
      "0.487599253857\n"
     ]
    }
   ],
   "source": [
    "auc = metrics.auc(fpr,tpr)\n",
    "print auc"
   ]
  },
  {
   "cell_type": "code",
   "execution_count": 102,
   "metadata": {
    "collapsed": false
   },
   "outputs": [
    {
     "name": "stdout",
     "output_type": "stream",
     "text": [
      "1.99999996883\n"
     ]
    }
   ],
   "source": [
    "for i in pr:\n",
    "    if i > 1:\n",
    "        print i"
   ]
  },
  {
   "cell_type": "code",
   "execution_count": 103,
   "metadata": {
    "collapsed": false
   },
   "outputs": [
    {
     "name": "stdout",
     "output_type": "stream",
     "text": [
      "Optimization terminated successfully.\n",
      "         Current function value: 0.667587\n",
      "         Iterations 5\n",
      "                           Logit Regression Results                           \n",
      "==============================================================================\n",
      "Dep. Variable:                engaged   No. Observations:                13182\n",
      "Model:                          Logit   Df Residuals:                    13162\n",
      "Method:                           MLE   Df Model:                           19\n",
      "Date:                Thu, 08 Dec 2016   Pseudo R-squ.:                 -0.4559\n",
      "Time:                        08:34:29   Log-Likelihood:                -8800.1\n",
      "converged:                       True   LL-Null:                       -6044.3\n",
      "                                        LLR p-value:                     1.000\n",
      "======================================================================================\n",
      "                         coef    std err          z      P>|z|      [95.0% Conf. Int.]\n",
      "--------------------------------------------------------------------------------------\n",
      "smile                  0.0164      0.022      0.744      0.457        -0.027     0.060\n",
      "innerBrowRaise        -0.2026      0.023     -8.970      0.000        -0.247    -0.158\n",
      "browRaise              0.0189      0.020      0.946      0.344        -0.020     0.058\n",
      "browFurrow             0.2619      0.025     10.426      0.000         0.213     0.311\n",
      "noseWrinkle           -0.0106      0.022     -0.489      0.625        -0.053     0.032\n",
      "upperLipRaise         -0.0514      0.021     -2.401      0.016        -0.093    -0.009\n",
      "lipCornerDepressor    -0.0209      0.020     -1.027      0.305        -0.061     0.019\n",
      "chinRaise              0.1086      0.028      3.818      0.000         0.053     0.164\n",
      "lipPucker             -0.2284      0.023    -10.064      0.000        -0.273    -0.184\n",
      "lipPress               0.0400      0.029      1.390      0.165        -0.016     0.096\n",
      "lipSuck               -0.2469      0.028     -8.775      0.000        -0.302    -0.192\n",
      "mouthOpen              0.1871      0.023      8.289      0.000         0.143     0.231\n",
      "smirk                 -0.1721      0.023     -7.373      0.000        -0.218    -0.126\n",
      "eyeClosure            -0.1083      0.020     -5.514      0.000        -0.147    -0.070\n",
      "eyeWiden               0.0364      0.019      1.939      0.052        -0.000     0.073\n",
      "cheekRaise             0.0636      0.020      3.245      0.001         0.025     0.102\n",
      "lidTighten            -0.1222      0.024     -5.191      0.000        -0.168    -0.076\n",
      "dimpler                0.2822      0.030      9.536      0.000         0.224     0.340\n",
      "lipStretch            -0.1231      0.028     -4.331      0.000        -0.179    -0.067\n",
      "jawDrop                0.1014      0.022      4.613      0.000         0.058     0.144\n",
      "======================================================================================\n"
     ]
    }
   ],
   "source": [
    "from sklearn.preprocessing import StandardScaler\n",
    "explanatoryStd = dftrain[['smile','innerBrowRaise', 'browRaise', 'browFurrow', 'noseWrinkle', 'upperLipRaise', \n",
    "                        'lipCornerDepressor', 'chinRaise', 'lipPucker', 'lipPress', 'lipSuck', \n",
    "                        'mouthOpen', 'smirk', 'eyeClosure', 'eyeWiden', 'cheekRaise',\n",
    "                        'lidTighten', 'dimpler', 'lipStretch', 'jawDrop']].copy() \n",
    "X_std = StandardScaler().fit_transform(explanatoryStd)\n",
    "backtodf = pd.DataFrame(X_std, index=explanatoryStd.index, columns=explanatoryStd.columns)\n",
    "Dependent = dftrain['engaged']\n",
    "logit = sm.Logit(Dependent,backtodf)\n",
    "result = logit.fit()\n",
    "print(result.summary())"
   ]
  },
  {
   "cell_type": "code",
   "execution_count": 104,
   "metadata": {
    "collapsed": false
   },
   "outputs": [
    {
     "data": {
      "image/png": "[encoded data removed]",
      "text/plain": [
       "<matplotlib.figure.Figure at 0x130cd1b90>"
      ]
     },
     "metadata": {},
     "output_type": "display_data"
    },
    {
     "data": {
      "text/plain": [
       "<ggplot: (322371465)>"
      ]
     },
     "execution_count": 104,
     "metadata": {},
     "output_type": "execute_result"
    }
   ],
   "source": [
    "from sklearn import metrics\n",
    "from math import sqrt \n",
    "from ggplot import *\n",
    "count1 = 0\n",
    "count0 = 0\n",
    "count = 0\n",
    "sum1 = 0.0\n",
    "\n",
    "per = result.predict(dftest[['smile','innerBrowRaise', 'browRaise', 'browFurrow', 'noseWrinkle', 'upperLipRaise', \n",
    "                        'lipCornerDepressor', 'chinRaise', 'lipPucker', 'lipPress', 'lipSuck', \n",
    "                        'mouthOpen', 'smirk', 'eyeClosure', 'eyeWiden', 'cheekRaise',\n",
    "                        'lidTighten', 'dimpler', 'lipStretch', 'jawDrop']] )\n",
    "\n",
    "fpr, tpr, pr = metrics.roc_curve(dftest['engaged'], per)\n",
    "df = pd.DataFrame(dict(fpr=fpr, tpr=tpr))\n",
    "ggplot(df, aes(x='fpr', y='tpr')) +\\\n",
    "    geom_line() +\\\n",
    "    geom_abline(linetype='dashed')"
   ]
  },
  {
   "cell_type": "code",
   "execution_count": 105,
   "metadata": {
    "collapsed": false
   },
   "outputs": [
    {
     "data": {
      "text/plain": [
       "<matplotlib.legend.Legend at 0x12e42e690>"
      ]
     },
     "execution_count": 105,
     "metadata": {},
     "output_type": "execute_result"
    },
    {
     "data": {
      "image/png": "[encoded data removed]",
      "text/plain": [
       "<matplotlib.figure.Figure at 0x1316792d0>"
      ]
     },
     "metadata": {},
     "output_type": "display_data"
    }
   ],
   "source": [
    "from numpy import *\n",
    "import math\n",
    "import matplotlib.pyplot as plt\n",
    "#print 1-fpr\n",
    "plt.plot(pr,1-fpr,'r',label= 'specificity')\n",
    "plt.plot(pr,tpr,'b',label= 'sensitivity')\n",
    "plt.legend()"
   ]
  },
  {
   "cell_type": "code",
   "execution_count": 77,
   "metadata": {
    "collapsed": false
   },
   "outputs": [
    {
     "name": "stdout",
     "output_type": "stream",
     "text": [
      "Optimization terminated successfully.\n",
      "         Current function value: 0.684854\n",
      "         Iterations 4\n",
      "                           Logit Regression Results                           \n",
      "==============================================================================\n",
      "Dep. Variable:                  tired   No. Observations:                13182\n",
      "Model:                          Logit   Df Residuals:                    13163\n",
      "Method:                           MLE   Df Model:                           18\n",
      "Date:                Thu, 08 Dec 2016   Pseudo R-squ.:                  -2.530\n",
      "Time:                        08:29:11   Log-Likelihood:                -9027.7\n",
      "converged:                       True   LL-Null:                       -2557.3\n",
      "                                        LLR p-value:                     1.000\n",
      "======================================================================================\n",
      "                         coef    std err          z      P>|z|      [95.0% Conf. Int.]\n",
      "--------------------------------------------------------------------------------------\n",
      "innerBrowRaise         0.0983      0.020      4.957      0.000         0.059     0.137\n",
      "browRaise             -0.0406      0.020     -2.059      0.039        -0.079    -0.002\n",
      "browFurrow            -0.0085      0.023     -0.377      0.707        -0.053     0.036\n",
      "noseWrinkle            0.0004      0.021      0.018      0.986        -0.041     0.042\n",
      "upperLipRaise          0.0109      0.021      0.524      0.600        -0.030     0.051\n",
      "lipCornerDepressor    -0.0854      0.019     -4.382      0.000        -0.124    -0.047\n",
      "chinRaise              0.0106      0.026      0.403      0.687        -0.041     0.062\n",
      "lipPucker             -0.0430      0.018     -2.328      0.020        -0.079    -0.007\n",
      "lipPress              -0.0858      0.027     -3.123      0.002        -0.140    -0.032\n",
      "lipSuck                0.0334      0.025      1.359      0.174        -0.015     0.082\n",
      "mouthOpen              0.1954      0.022      8.946      0.000         0.153     0.238\n",
      "smirk                  0.0954      0.022      4.251      0.000         0.051     0.139\n",
      "eyeClosure             0.1082      0.019      5.691      0.000         0.071     0.145\n",
      "eyeWiden              -0.0059      0.018     -0.329      0.742        -0.041     0.029\n",
      "cheekRaise             0.0536      0.019      2.772      0.006         0.016     0.091\n",
      "lidTighten             0.0109      0.023      0.479      0.632        -0.034     0.056\n",
      "dimpler               -0.0101      0.027     -0.370      0.711        -0.064     0.043\n",
      "lipStretch            -0.0048      0.026     -0.183      0.855        -0.056     0.046\n",
      "jawDrop               -0.0801      0.021     -3.754      0.000        -0.122    -0.038\n",
      "======================================================================================\n"
     ]
    }
   ],
   "source": [
    "from sklearn.preprocessing import StandardScaler\n",
    "explanatoryStd = dftrain[['innerBrowRaise', 'browRaise', 'browFurrow', 'noseWrinkle', 'upperLipRaise', \n",
    "                        'lipCornerDepressor', 'chinRaise', 'lipPucker', 'lipPress', 'lipSuck', \n",
    "                        'mouthOpen', 'smirk', 'eyeClosure', 'eyeWiden', 'cheekRaise',\n",
    "                        'lidTighten', 'dimpler', 'lipStretch', 'jawDrop']].copy() \n",
    "X_std = StandardScaler().fit_transform(explanatoryStd)\n",
    "backtodf = pd.DataFrame(X_std, index=explanatoryStd.index, columns=explanatoryStd.columns)\n",
    "Dependent = dftrain['tired']\n",
    "logit = sm.Logit(Dependent,backtodf)\n",
    "result = logit.fit()\n",
    "print(result.summary())"
   ]
  },
  {
   "cell_type": "code",
   "execution_count": 106,
   "metadata": {
    "collapsed": false
   },
   "outputs": [
    {
     "name": "stdout",
     "output_type": "stream",
     "text": [
      "0.58232405892\n"
     ]
    }
   ],
   "source": [
    "auc = metrics.auc(fpr,tpr)\n",
    "print auc"
   ]
  },
  {
   "cell_type": "code",
   "execution_count": 107,
   "metadata": {
    "collapsed": false
   },
   "outputs": [
    {
     "data": {
      "image/png": "[encoded data removed]",
      "text/plain": [
       "<matplotlib.figure.Figure at 0x1342c0750>"
      ]
     },
     "metadata": {},
     "output_type": "display_data"
    },
    {
     "data": {
      "text/plain": [
       "<ggplot: (319607045)>"
      ]
     },
     "execution_count": 107,
     "metadata": {},
     "output_type": "execute_result"
    }
   ],
   "source": [
    "from sklearn import metrics\n",
    "from math import sqrt \n",
    "from ggplot import *\n",
    "count1 = 0\n",
    "count0 = 0\n",
    "count = 0\n",
    "sum1 = 0.0\n",
    "\n",
    "per = result.predict(dftest[['smile','innerBrowRaise', 'browRaise', 'browFurrow', 'noseWrinkle', 'upperLipRaise', \n",
    "                        'lipCornerDepressor', 'chinRaise', 'lipPucker', 'lipPress', 'lipSuck', \n",
    "                        'mouthOpen', 'smirk', 'eyeClosure', 'eyeWiden', 'cheekRaise',\n",
    "                        'lidTighten', 'dimpler', 'lipStretch', 'jawDrop']] )\n",
    "\n",
    "fpr, tpr, pr = metrics.roc_curve(dftest['tired'], per)\n",
    "df = pd.DataFrame(dict(fpr=fpr, tpr=tpr))\n",
    "ggplot(df, aes(x='fpr', y='tpr')) +\\\n",
    "    geom_line() +\\\n",
    "    geom_abline(linetype='dashed')"
   ]
  },
  {
   "cell_type": "code",
   "execution_count": 108,
   "metadata": {
    "collapsed": false
   },
   "outputs": [
    {
     "name": "stdout",
     "output_type": "stream",
     "text": [
      "0.472359607446\n"
     ]
    }
   ],
   "source": [
    "auc = metrics.auc(fpr,tpr)\n",
    "print auc"
   ]
  },
  {
   "cell_type": "code",
   "execution_count": null,
   "metadata": {
    "collapsed": true
   },
   "outputs": [],
   "source": []
  }
 ],
 "metadata": {
  "kernelspec": {
   "display_name": "Python 2",
   "language": "python",
   "name": "python2"
  },
  "language_info": {
   "codemirror_mode": {
    "name": "ipython",
    "version": 2
   },
   "file_extension": ".py",
   "mimetype": "text/x-python",
   "name": "python",
   "nbconvert_exporter": "python",
   "pygments_lexer": "ipython2",
   "version": "2.7.12"
  }
 },
 "nbformat": 4,
 "nbformat_minor": 0
}
